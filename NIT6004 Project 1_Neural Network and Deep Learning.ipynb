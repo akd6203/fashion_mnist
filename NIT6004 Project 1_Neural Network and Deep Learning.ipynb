{
 "cells": [
  {
   "cell_type": "markdown",
   "id": "db5a3c6d-c665-4387-bcc5-d181f0768192",
   "metadata": {},
   "source": [
    "### Install Required Libraries"
   ]
  },
  {
   "cell_type": "code",
   "execution_count": 1,
   "id": "fe3fa7ed-42fe-4e4f-b2d2-c8497cfa2f83",
   "metadata": {},
   "outputs": [],
   "source": [
    "# !pip install numpy\n",
    "# !pip install matplotlib"
   ]
  },
  {
   "cell_type": "markdown",
   "id": "53a67c42-dd34-4928-a876-b1f3e507fd98",
   "metadata": {},
   "source": [
    "### Task 1: Import libraries"
   ]
  },
  {
   "cell_type": "code",
   "execution_count": 1,
   "id": "ec155fe2-245d-433c-85c5-70f2a2eeb936",
   "metadata": {},
   "outputs": [],
   "source": [
    "import tensorflow as tf\n",
    "from tensorflow.keras.datasets import fashion_mnist\n",
    "from tensorflow.keras.utils import to_categorical\n",
    "from tensorflow.keras.models import Sequential\n",
    "from tensorflow.keras.layers import Dense, Flatten, Dropout\n",
    "import matplotlib.pyplot as plt"
   ]
  },
  {
   "cell_type": "markdown",
   "id": "38dfd552-fef4-4729-9ea7-ecd9585dfe83",
   "metadata": {},
   "source": [
    "### Task 2: Import Dataset:"
   ]
  },
  {
   "cell_type": "code",
   "execution_count": 10,
   "id": "0ef37fb0-30d1-4469-96d9-6472993f5709",
   "metadata": {},
   "outputs": [],
   "source": [
    "(train_images, train_labels), (test_images, test_labels) = fashion_mnist.load_data()"
   ]
  },
  {
   "cell_type": "markdown",
   "id": "fa554a66-81c6-43c1-8232-2e68defefbf2",
   "metadata": {},
   "source": [
    "#### 2.1 Data Preprocessing"
   ]
  },
  {
   "cell_type": "code",
   "execution_count": 11,
   "id": "41e8983b-d46b-4af3-880f-f3ff91be0e74",
   "metadata": {},
   "outputs": [
    {
     "name": "stdout",
     "output_type": "stream",
     "text": [
      "(60000, 28, 28)\n",
      "Minimum value: 255, Maximum Value: 0\n"
     ]
    }
   ],
   "source": [
    "# Check Data shape and value range\n",
    "print(train_images.shape)\n",
    "print(\"Minimum value: {}, Maximum Value: {}\".format(train_images.max(), train_images.min()))\n",
    "# train_images[0]"
   ]
  },
  {
   "cell_type": "code",
   "execution_count": 12,
   "id": "fe797ebe-5118-4d15-bbdd-af3f04578567",
   "metadata": {},
   "outputs": [
    {
     "name": "stdout",
     "output_type": "stream",
     "text": [
      "Before: [9 0 0 ... 3 0 5]\n",
      "After: [[0. 0. 0. ... 0. 0. 1.]\n",
      " [1. 0. 0. ... 0. 0. 0.]\n",
      " [1. 0. 0. ... 0. 0. 0.]\n",
      " ...\n",
      " [0. 0. 0. ... 0. 0. 0.]\n",
      " [1. 0. 0. ... 0. 0. 0.]\n",
      " [0. 0. 0. ... 0. 0. 0.]]\n"
     ]
    }
   ],
   "source": [
    "train_images = train_images.reshape((train_images.shape[0], 28, 28, 1)).astype('float32') / 255\n",
    "test_images = test_images.reshape((test_images.shape[0], 28, 28, 1)).astype('float32') / 255\n",
    "print(\"Before:\",train_labels)\n",
    "train_labels = to_categorical(train_labels)\n",
    "test_labels = to_categorical(test_labels)\n",
    "print(\"After:\", train_labels)"
   ]
  },
  {
   "cell_type": "code",
   "execution_count": 19,
   "id": "f8a55aee-2c6e-40fa-b301-4598cb46cb1c",
   "metadata": {},
   "outputs": [
    {
     "data": {
      "text/plain": [
       "0"
      ]
     },
     "execution_count": 19,
     "metadata": {},
     "output_type": "execute_result"
    }
   ],
   "source": [
    "train_labels[1].argmax()"
   ]
  },
  {
   "cell_type": "code",
   "execution_count": 20,
   "id": "e24a5a28-eaab-4bc1-8959-07097d9e46d2",
   "metadata": {},
   "outputs": [
    {
     "data": {
      "text/plain": [
       "((60000, 28, 28, 1), (60000, 10))"
      ]
     },
     "execution_count": 20,
     "metadata": {},
     "output_type": "execute_result"
    }
   ],
   "source": [
    "train_images.shape, train_labels.shape"
   ]
  },
  {
   "cell_type": "code",
   "execution_count": 21,
   "id": "30796991-87e3-495f-89c2-534574a07549",
   "metadata": {},
   "outputs": [
    {
     "name": "stdout",
     "output_type": "stream",
     "text": [
      "(10000, 28, 28, 1) (10000, 10)\n"
     ]
    }
   ],
   "source": [
    "print(test_images.shape, test_labels.shape)"
   ]
  },
  {
   "cell_type": "code",
   "execution_count": 22,
   "id": "fd0b31f9-485d-456c-8926-50bd92ddc4b4",
   "metadata": {},
   "outputs": [
    {
     "name": "stdout",
     "output_type": "stream",
     "text": [
      "Minimum value: 1.0, Maximum Value: 0.0\n"
     ]
    }
   ],
   "source": [
    "print(\"Minimum value: {}, Maximum Value: {}\".format(train_images.max(), train_images.min()))"
   ]
  },
  {
   "cell_type": "markdown",
   "id": "91ec8413-2aca-4fec-92a1-1d3d1a1f3133",
   "metadata": {},
   "source": [
    "Now data ranges between 0-1 float values. Let's check class labels"
   ]
  },
  {
   "cell_type": "code",
   "execution_count": 23,
   "id": "30a13e12-69bb-4d9f-9722-b454183c7c77",
   "metadata": {},
   "outputs": [
    {
     "data": {
      "text/plain": [
       "array([[0., 0., 0., ..., 0., 0., 1.],\n",
       "       [1., 0., 0., ..., 0., 0., 0.],\n",
       "       [1., 0., 0., ..., 0., 0., 0.],\n",
       "       ...,\n",
       "       [0., 0., 0., ..., 0., 0., 0.],\n",
       "       [1., 0., 0., ..., 0., 0., 0.],\n",
       "       [0., 0., 0., ..., 0., 0., 0.]], dtype=float32)"
      ]
     },
     "execution_count": 23,
     "metadata": {},
     "output_type": "execute_result"
    }
   ],
   "source": [
    "train_labels"
   ]
  },
  {
   "cell_type": "markdown",
   "id": "5a87fadb-c594-42ad-a400-2586e089f06e",
   "metadata": {},
   "source": [
    "As we can see above, labels are in numerical/categorical form, we can map them to the string labels, here is the python dictionary for the same:"
   ]
  },
  {
   "cell_type": "code",
   "execution_count": 24,
   "id": "1488c7bd-f881-4477-89be-d32553d1acc6",
   "metadata": {},
   "outputs": [],
   "source": [
    "labels_dict = {0: \"T-shirt/top\",    1: \"Trouser\",    2: \"Pullover\",    3: \"Dress\",4: \"Coat\",5: \"Sandal\",6: \"Shirt\",7: \"Sneaker\",8: \"Bag\",9: \"Ankle boot\"}"
   ]
  },
  {
   "cell_type": "markdown",
   "id": "df411e57-75e2-4770-ad34-67a2d958b81e",
   "metadata": {},
   "source": [
    "As shown above, we have 60000 images for training and 10000 images for testing. Let's test any data sample to check if it is corect data or not"
   ]
  },
  {
   "cell_type": "code",
   "execution_count": 29,
   "id": "0bb20727-9dbd-4603-9b57-747bd38eaa3c",
   "metadata": {},
   "outputs": [
    {
     "name": "stdout",
     "output_type": "stream",
     "text": [
      "Actual Label:  0\n",
      "Mapped Label T-shirt/top\n"
     ]
    },
    {
     "data": {
      "text/plain": [
       "<matplotlib.image.AxesImage at 0x176d551b6a0>"
      ]
     },
     "execution_count": 29,
     "metadata": {},
     "output_type": "execute_result"
    },
    {
     "data": {
      "image/png": "[encoded data removed]",
      "text/plain": [
       "<Figure size 640x480 with 1 Axes>"
      ]
     },
     "metadata": {},
     "output_type": "display_data"
    }
   ],
   "source": [
    "print(\"Actual Label: \", train_labels[2].argmax())\n",
    "print(\"Mapped Label\", labels_dict[train_labels[2].argmax()])\n",
    "plt.imshow(train_images[2], cmap='gray')"
   ]
  },
  {
   "cell_type": "markdown",
   "id": "f232a8de-64c7-484d-890e-d4a50a34d994",
   "metadata": {},
   "source": [
    "### Task 3: Build a Classifier using MLP (Multi Layer perceptron)"
   ]
  },
  {
   "cell_type": "code",
   "execution_count": 30,
   "id": "a9c828a9-c99f-4b51-9f8f-6fd19710d5c5",
   "metadata": {},
   "outputs": [],
   "source": [
    "model = Sequential([\n",
    "    Flatten(input_shape=(28, 28, 1)),\n",
    "    Dense(128, activation='relu'),\n",
    "    Dropout(0.5),\n",
    "    Dense(64, activation='relu'),\n",
    "    Dropout(0.5),\n",
    "    Dense(10, activation='softmax')\n",
    "])"
   ]
  },
  {
   "cell_type": "code",
   "execution_count": 31,
   "id": "85d3dd84-2dac-417f-9883-2b9fc78186ef",
   "metadata": {},
   "outputs": [
    {
     "name": "stdout",
     "output_type": "stream",
     "text": [
      "Model: \"sequential\"\n",
      "_________________________________________________________________\n",
      " Layer (type)                Output Shape              Param #   \n",
      "=================================================================\n",
      " flatten (Flatten)           (None, 784)               0         \n",
      "                                                                 \n",
      " dense (Dense)               (None, 128)               100480    \n",
      "                                                                 \n",
      " dropout (Dropout)           (None, 128)               0         \n",
      "                                                                 \n",
      " dense_1 (Dense)             (None, 64)                8256      \n",
      "                                                                 \n",
      " dropout_1 (Dropout)         (None, 64)                0         \n",
      "                                                                 \n",
      " dense_2 (Dense)             (None, 10)                650       \n",
      "                                                                 \n",
      "=================================================================\n",
      "Total params: 109386 (427.29 KB)\n",
      "Trainable params: 109386 (427.29 KB)\n",
      "Non-trainable params: 0 (0.00 Byte)\n",
      "_________________________________________________________________\n"
     ]
    }
   ],
   "source": [
    "model.summary()"
   ]
  },
  {
   "cell_type": "markdown",
   "id": "29788d2f-f656-4c79-9ac9-7b02c49347a2",
   "metadata": {},
   "source": [
    "### Task 4: Compile the Model"
   ]
  },
  {
   "cell_type": "code",
   "execution_count": 33,
   "id": "751a1d1f-c857-42bc-81d5-1ecaf7a69ed5",
   "metadata": {},
   "outputs": [],
   "source": [
    "model.compile(optimizer='adam',\n",
    "              loss='categorical_crossentropy',\n",
    "              metrics=['accuracy'])"
   ]
  },
  {
   "cell_type": "markdown",
   "id": "20cff72c-7f8f-4c8c-810b-95fd69a99cc8",
   "metadata": {},
   "source": [
    "### Task 5: Train and Test the model."
   ]
  },
  {
   "cell_type": "markdown",
   "id": "ae5dd78b-c902-4aab-b626-74fc47c4c7fa",
   "metadata": {},
   "source": [
    "- Feed the training data to the built model"
   ]
  },
  {
   "cell_type": "code",
   "execution_count": 34,
   "id": "08f3a757-4a6e-4fc6-a863-4c79eff7fbd5",
   "metadata": {},
   "outputs": [
    {
     "name": "stdout",
     "output_type": "stream",
     "text": [
      "Epoch 1/15\n",
      "469/469 [==============================] - 9s 14ms/step - loss: 0.9062 - accuracy: 0.6769\n",
      "Epoch 2/15\n",
      "469/469 [==============================] - 6s 13ms/step - loss: 0.5973 - accuracy: 0.7908\n",
      "Epoch 3/15\n",
      "469/469 [==============================] - 8s 17ms/step - loss: 0.5324 - accuracy: 0.8148\n",
      "Epoch 4/15\n",
      "469/469 [==============================] - 8s 17ms/step - loss: 0.5040 - accuracy: 0.8259\n",
      "Epoch 5/15\n",
      "469/469 [==============================] - 7s 15ms/step - loss: 0.4814 - accuracy: 0.8320\n",
      "Epoch 6/15\n",
      "469/469 [==============================] - 7s 15ms/step - loss: 0.4633 - accuracy: 0.8383\n",
      "Epoch 7/15\n",
      "469/469 [==============================] - 7s 15ms/step - loss: 0.4585 - accuracy: 0.8413\n",
      "Epoch 8/15\n",
      "469/469 [==============================] - 7s 15ms/step - loss: 0.4468 - accuracy: 0.8441\n",
      "Epoch 9/15\n",
      "469/469 [==============================] - 6s 12ms/step - loss: 0.4379 - accuracy: 0.8452\n",
      "Epoch 10/15\n",
      "469/469 [==============================] - 6s 13ms/step - loss: 0.4317 - accuracy: 0.8495\n",
      "Epoch 11/15\n",
      "469/469 [==============================] - 6s 12ms/step - loss: 0.4276 - accuracy: 0.8492\n",
      "Epoch 12/15\n",
      "469/469 [==============================] - 6s 14ms/step - loss: 0.4200 - accuracy: 0.8512\n",
      "Epoch 13/15\n",
      "469/469 [==============================] - 7s 14ms/step - loss: 0.4149 - accuracy: 0.8548\n",
      "Epoch 14/15\n",
      "469/469 [==============================] - 8s 17ms/step - loss: 0.4100 - accuracy: 0.8544\n",
      "Epoch 15/15\n",
      "469/469 [==============================] - 6s 14ms/step - loss: 0.4078 - accuracy: 0.8555\n"
     ]
    }
   ],
   "source": [
    "batch_size = 128\n",
    "history = model.fit(train_images, train_labels, epochs=15, batch_size=batch_size)"
   ]
  },
  {
   "cell_type": "markdown",
   "id": "02613952-90f8-4a25-aaac-b399dc5b72e2",
   "metadata": {},
   "source": [
    "### Model Evaluation"
   ]
  },
  {
   "cell_type": "code",
   "execution_count": 35,
   "id": "5b00677d-e235-4cfc-8a21-a36b78f42fe1",
   "metadata": {},
   "outputs": [
    {
     "name": "stdout",
     "output_type": "stream",
     "text": [
      "313/313 [==============================] - 2s 6ms/step - loss: 0.3670 - accuracy: 0.8728\n"
     ]
    }
   ],
   "source": [
    "test_loss, test_acc = model.evaluate(test_images, test_labels)"
   ]
  },
  {
   "cell_type": "code",
   "execution_count": 36,
   "id": "ddce35a6-e56c-4af6-bc25-de245c3e822b",
   "metadata": {},
   "outputs": [
    {
     "name": "stdout",
     "output_type": "stream",
     "text": [
      "Test Loss:  0.36701545119285583\n",
      "Test Accuracy:  0.8727999925613403\n"
     ]
    }
   ],
   "source": [
    "print(\"Test Loss: \", test_loss)\n",
    "print(\"Test Accuracy: \", test_acc)"
   ]
  },
  {
   "cell_type": "markdown",
   "id": "8f3a23a4-1d87-41ac-8cbb-c7a0a067e143",
   "metadata": {},
   "source": [
    "- Access Loss and Accuracy details from the training history"
   ]
  },
  {
   "cell_type": "code",
   "execution_count": 37,
   "id": "64d47a33-6ea3-4688-b665-66ff193a64b5",
   "metadata": {},
   "outputs": [],
   "source": [
    "training_loss = history.history['loss']\n",
    "training_accuracy = history.history['accuracy']"
   ]
  },
  {
   "cell_type": "code",
   "execution_count": 38,
   "id": "c8ddf7b8-1dd0-4f3a-8dd0-08d9ac4b82fd",
   "metadata": {},
   "outputs": [
    {
     "data": {
      "image/png": "[encoded data removed]",
      "text/plain": [
       "<Figure size 800x300 with 2 Axes>"
      ]
     },
     "metadata": {},
     "output_type": "display_data"
    }
   ],
   "source": [
    "# Create subplots for loss and accuracy\n",
    "plt.figure(figsize=(8, 3))\n",
    "# Loss subplot\n",
    "plt.subplot(1, 2, 1)\n",
    "plt.plot(training_loss, label='Training Loss')\n",
    "plt.xlabel('Epochs')\n",
    "plt.ylabel('Loss')\n",
    "plt.legend()\n",
    "\n",
    "# Accuracy subplot\n",
    "plt.subplot(1, 2, 2)\n",
    "plt.plot(training_accuracy, label='Training Accuracy')\n",
    "plt.xlabel('Epochs')\n",
    "plt.ylabel('Accuracy')\n",
    "plt.legend()\n",
    "\n",
    "plt.show()"
   ]
  },
  {
   "cell_type": "markdown",
   "id": "e7ab7133-fa60-423b-a4eb-2d7f6d02c5e3",
   "metadata": {},
   "source": [
    "- As we can see in the graph, loss has been decreased with each epoch where accuracy has been increased"
   ]
  },
  {
   "cell_type": "markdown",
   "id": "4d13a611-d600-429f-a026-67fbaab9675f",
   "metadata": {},
   "source": [
    "### Let's make predictions on the test test and check whether those predictions are correct or not"
   ]
  },
  {
   "cell_type": "code",
   "execution_count": 46,
   "id": "254f7210-8b21-4bee-ab53-6b89c0db4d92",
   "metadata": {},
   "outputs": [
    {
     "name": "stdout",
     "output_type": "stream",
     "text": [
      "313/313 [==============================] - 2s 6ms/step\n"
     ]
    },
    {
     "data": {
      "text/plain": [
       "4"
      ]
     },
     "execution_count": 46,
     "metadata": {},
     "output_type": "execute_result"
    }
   ],
   "source": [
    "model.predict(test_images)[10].argmax()"
   ]
  },
  {
   "cell_type": "code",
   "execution_count": 47,
   "id": "90d6a731-5b1a-45cb-9ed2-1c500a89272a",
   "metadata": {},
   "outputs": [
    {
     "data": {
      "text/plain": [
       "array([0., 0., 0., 0., 1., 0., 0., 0., 0., 0.], dtype=float32)"
      ]
     },
     "execution_count": 47,
     "metadata": {},
     "output_type": "execute_result"
    }
   ],
   "source": [
    "test_labels[10]"
   ]
  },
  {
   "cell_type": "code",
   "execution_count": 48,
   "id": "ceb4fa8c-697e-449f-9dd2-5df54204f5be",
   "metadata": {},
   "outputs": [
    {
     "data": {
      "text/plain": [
       "4"
      ]
     },
     "execution_count": 48,
     "metadata": {},
     "output_type": "execute_result"
    }
   ],
   "source": [
    "test_labels[10].argmax()"
   ]
  },
  {
   "cell_type": "markdown",
   "id": "37e65b2d-d1aa-4fb8-b361-e19f2b36cc56",
   "metadata": {},
   "source": [
    "- Ask model to make predictions about a test set"
   ]
  },
  {
   "cell_type": "code",
   "execution_count": 49,
   "id": "ca77a838-3867-46e8-88d9-95265841fc7e",
   "metadata": {},
   "outputs": [
    {
     "name": "stdout",
     "output_type": "stream",
     "text": [
      "313/313 [==============================] - 2s 6ms/step\n"
     ]
    }
   ],
   "source": [
    "predictions = model.predict(test_images)"
   ]
  },
  {
   "cell_type": "markdown",
   "id": "315d92e2-bebe-4c45-ace6-b8906195c760",
   "metadata": {},
   "source": [
    "- Verify that the predictions match the labels from the test labels"
   ]
  },
  {
   "cell_type": "markdown",
   "id": "141171b8-81f9-4fa8-9061-c08f32c13daa",
   "metadata": {},
   "source": [
    "### EVALUATION"
   ]
  },
  {
   "cell_type": "code",
   "execution_count": 50,
   "id": "d7a64fdf-12c4-4e6a-9de0-45d128669b7b",
   "metadata": {},
   "outputs": [
    {
     "data": {
      "image/png": "[encoded data removed]",
      "text/plain": [
       "<Figure size 700x700 with 16 Axes>"
      ]
     },
     "metadata": {},
     "output_type": "display_data"
    }
   ],
   "source": [
    "\n",
    "# Create a 4x4 grid of subplots\n",
    "fig, axes = plt.subplots(4, 4, figsize=(7, 7))\n",
    "\n",
    "# Assuming you have defined labels_dict and predictions earlier\n",
    "c = 0\n",
    "for i in range(4):\n",
    "    for j in range(4):\n",
    "        prediction = predictions[c].argmax()\n",
    "        axes[i, j].imshow(test_images[c], cmap='gray')  # Assuming the images are grayscale\n",
    "        axes[i, j].set_xlabel(str(labels_dict[prediction]))\n",
    "        axes[i, j].set_xticks([])  # Hide the x-axis scale and ticks\n",
    "        axes[i, j].set_yticks([])  # Hide the y-axis scale and ticks\n",
    "        c += 1\n",
    "\n",
    "plt.tight_layout()  # Adjust spacing between subplots\n",
    "plt.show()"
   ]
  }
 ],
 "metadata": {
  "kernelspec": {
   "display_name": "Python 3 (ipykernel)",
   "language": "python",
   "name": "python3"
  },
  "language_info": {
   "codemirror_mode": {
    "name": "ipython",
    "version": 3
   },
   "file_extension": ".py",
   "mimetype": "text/x-python",
   "name": "python",
   "nbconvert_exporter": "python",
   "pygments_lexer": "ipython3",
   "version": "3.10.8"
  }
 },
 "nbformat": 4,
 "nbformat_minor": 5
}
